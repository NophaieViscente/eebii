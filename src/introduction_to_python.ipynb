{
 "cells": [
  {
   "attachments": {},
   "cell_type": "markdown",
   "metadata": {},
   "source": [
    "#### Introdução a linguagem Python\n",
    "\n",
    "A linguagem python foi inventada por Guido Van Rossum em 1991, é uma linguagem muito difundida por sua facilidade de aprendizado e também por sua facilitada legibilidade para iniciantes.\n",
    "\n",
    "Saiba mais sobre a linguagem : https://www.python.org/"
   ]
  },
  {
   "attachments": {},
   "cell_type": "markdown",
   "metadata": {},
   "source": [
    "Dentro do python existem alguns tipos de dados básicos e nativos. São eles : \n",
    "\n",
    "* String : São caracteres, o python expressa os mesmos sempre dentro de aspas simples ou duplas (',\")\n",
    "\n",
    "* Integer : São números reais, positivos ou negativos.\n",
    "\n",
    "* Float : São números com ponto flutuante, tais como 1.5, 3.2 (Lembrando que python utiliza ponto para separador de float ao invés de vírgula)\n",
    "\n",
    "* List : São estruturas compostas, são como vetores podem ser um conjunto de objetos. (envolvidos por colchetes)\n",
    "    Ex : [1,2,3,4] ou ['loreipsum', 'alphabetagamma']\n",
    "\n",
    "* Dict : São estruturas compostas, são objetos chave-valor (envolvidos por chaves)\n",
    "    Ex : {'a':1, 'b':2}\n",
    "    \n",
    "* Tuple : São estruturas compostas imutáveis, são como as listas porém são imutáveis. (envolvidos por chaves)\n",
    "    Ex : (1,2,3,4)\n",
    "\n",
    "* Set : São estruturas compostas que armazenam números sem repetição. (envolvidos por chaves)\n",
    "    Ex : {1,2,3,4}\n"
   ]
  },
  {
   "attachments": {},
   "cell_type": "markdown",
   "metadata": {},
   "source": [
    "#### Operações matemáticas utilizando Python"
   ]
  },
  {
   "cell_type": "code",
   "execution_count": 1,
   "metadata": {},
   "outputs": [],
   "source": [
    "a = 7\n",
    "b = 3"
   ]
  },
  {
   "attachments": {},
   "cell_type": "markdown",
   "metadata": {},
   "source": [
    "#### Soma"
   ]
  },
  {
   "cell_type": "code",
   "execution_count": 2,
   "metadata": {},
   "outputs": [
    {
     "data": {
      "text/plain": [
       "10"
      ]
     },
     "execution_count": 2,
     "metadata": {},
     "output_type": "execute_result"
    }
   ],
   "source": [
    "soma = a + b\n",
    "soma"
   ]
  },
  {
   "attachments": {},
   "cell_type": "markdown",
   "metadata": {},
   "source": [
    "#### Subtração"
   ]
  },
  {
   "cell_type": "code",
   "execution_count": 3,
   "metadata": {},
   "outputs": [
    {
     "data": {
      "text/plain": [
       "4"
      ]
     },
     "execution_count": 3,
     "metadata": {},
     "output_type": "execute_result"
    }
   ],
   "source": [
    "subtracao = a - b\n",
    "subtracao"
   ]
  },
  {
   "attachments": {},
   "cell_type": "markdown",
   "metadata": {},
   "source": [
    "#### Multiplicação"
   ]
  },
  {
   "cell_type": "code",
   "execution_count": 4,
   "metadata": {},
   "outputs": [
    {
     "data": {
      "text/plain": [
       "21"
      ]
     },
     "execution_count": 4,
     "metadata": {},
     "output_type": "execute_result"
    }
   ],
   "source": [
    "multiplicacao = a * b\n",
    "multiplicacao"
   ]
  },
  {
   "attachments": {},
   "cell_type": "markdown",
   "metadata": {},
   "source": [
    "#### Divisão"
   ]
  },
  {
   "cell_type": "code",
   "execution_count": 5,
   "metadata": {},
   "outputs": [
    {
     "data": {
      "text/plain": [
       "2.3333333333333335"
      ]
     },
     "execution_count": 5,
     "metadata": {},
     "output_type": "execute_result"
    }
   ],
   "source": [
    "divisao = a / b\n",
    "divisao"
   ]
  },
  {
   "attachments": {},
   "cell_type": "markdown",
   "metadata": {},
   "source": [
    "#### Potenciação"
   ]
  },
  {
   "cell_type": "code",
   "execution_count": 6,
   "metadata": {},
   "outputs": [
    {
     "data": {
      "text/plain": [
       "343"
      ]
     },
     "execution_count": 6,
     "metadata": {},
     "output_type": "execute_result"
    }
   ],
   "source": [
    "potencia = a ** b\n",
    "potencia"
   ]
  },
  {
   "attachments": {},
   "cell_type": "markdown",
   "metadata": {},
   "source": [
    "#### Radiciação"
   ]
  },
  {
   "cell_type": "code",
   "execution_count": 7,
   "metadata": {},
   "outputs": [
    {
     "data": {
      "text/plain": [
       "3.0"
      ]
     },
     "execution_count": 7,
     "metadata": {},
     "output_type": "execute_result"
    }
   ],
   "source": [
    "raiz_quadrada = 9 ** 0.5\n",
    "raiz_quadrada"
   ]
  },
  {
   "attachments": {},
   "cell_type": "markdown",
   "metadata": {},
   "source": [
    "#### Visualização de Dados"
   ]
  },
  {
   "attachments": {},
   "cell_type": "markdown",
   "metadata": {},
   "source": [
    "É usada para a visualização de dados numéricos de forma mais simplificada, é muito usada em Análise exploratória de dados.\n",
    "\n",
    "Existem bibliotecas para a visualização de dados, a mais usada é a Matplotlib. Ela é uma biblioteca de fácil uso para a plotagem de quase todos os tipos de gráficos.\n"
   ]
  },
  {
   "cell_type": "code",
   "execution_count": 8,
   "metadata": {},
   "outputs": [],
   "source": [
    "import matplotlib.pyplot as plt"
   ]
  },
  {
   "cell_type": "code",
   "execution_count": 9,
   "metadata": {},
   "outputs": [],
   "source": [
    "# Construindo os dados para o gráfico\n",
    "fruit = {\n",
    "    'Maçã': 6,\n",
    "    'Uva' : 9,\n",
    "    'Tangerina' : 10,\n",
    "    'Banana' : 9,\n",
    "    'Morango' : 7\n",
    "}\n",
    "\n",
    "# Setando o tamanho da fonte, e a tipagem de negrito.\n",
    "font_dict = {\n",
    "    'fontsize' : 14,\n",
    "    'fontweight' : 'semibold'\n",
    "}"
   ]
  },
  {
   "cell_type": "code",
   "execution_count": 10,
   "metadata": {},
   "outputs": [
    {
     "data": {
      "image/png": "[encoded data removed]",
      "text/plain": [
       "<Figure size 640x480 with 1 Axes>"
      ]
     },
     "metadata": {},
     "output_type": "display_data"
    }
   ],
   "source": [
    "# Organizando de forma crescente da esquerda pra direita\n",
    "fruit_sorted = dict(sorted(fruit.items(), key= lambda x: x[1]))\n",
    "plt.bar(x=fruit_sorted.keys(), height=fruit_sorted.values())\n",
    "plt.title(label='Qtd. Escolha Frutas', fontdict=font_dict)\n",
    "plt.show()"
   ]
  },
  {
   "cell_type": "code",
   "execution_count": 11,
   "metadata": {},
   "outputs": [
    {
     "data": {
      "image/png": "[encoded data removed]",
      "text/plain": [
       "<Figure size 640x480 with 1 Axes>"
      ]
     },
     "metadata": {},
     "output_type": "display_data"
    }
   ],
   "source": [
    "plt.bar(x=fruit.keys(), height=fruit.values())\n",
    "plt.title(label='Qtd. Escolha Frutas', fontdict=font_dict)\n",
    "plt.show()"
   ]
  }
 ],
 "metadata": {
  "kernelspec": {
   "display_name": ".venv",
   "language": "python",
   "name": "python3"
  },
  "language_info": {
   "codemirror_mode": {
    "name": "ipython",
    "version": 3
   },
   "file_extension": ".py",
   "mimetype": "text/x-python",
   "name": "python",
   "nbconvert_exporter": "python",
   "pygments_lexer": "ipython3",
   "version": "3.10.12"
  },
  "orig_nbformat": 4
 },
 "nbformat": 4,
 "nbformat_minor": 2
}
