{
 "cells": [
  {
   "cell_type": "code",
   "execution_count": 1,
   "metadata": {},
   "outputs": [],
   "source": [
    "import sqlite3\n",
    "from decouple import config\n",
    "import pandas as pd"
   ]
  },
  {
   "cell_type": "code",
   "execution_count": 2,
   "metadata": {},
   "outputs": [],
   "source": [
    "# Create Env vars\n",
    "DATA_SQL_PATH = config(\"DATA_SQL_PATH\")"
   ]
  },
  {
   "attachments": {},
   "cell_type": "markdown",
   "metadata": {},
   "source": [
    "#### Criando o banco de dados SQLITE"
   ]
  },
  {
   "cell_type": "code",
   "execution_count": 3,
   "metadata": {},
   "outputs": [],
   "source": [
    "engine = sqlite3.connect(DATA_SQL_PATH+\"db/eebii-culminancy.db\")\n",
    "# Create a cursor\n",
    "cursor = engine.cursor()"
   ]
  },
  {
   "attachments": {},
   "cell_type": "markdown",
   "metadata": {},
   "source": [
    "#### 1 - Carregar os dados dos arquivos nas respectivas tabelas "
   ]
  },
  {
   "cell_type": "code",
   "execution_count": 4,
   "metadata": {},
   "outputs": [],
   "source": [
    "# Função para fazer o load dos arquivos\n",
    "def load_data_fromFile_txt (file_path:str) :\n",
    "\n",
    "    with open(file_path, mode=\"r\") as file :\n",
    "        data = file.readlines()\n",
    "\n",
    "    data = [line.strip().split(\",\") for line in data]\n",
    "\n",
    "    return data"
   ]
  },
  {
   "attachments": {},
   "cell_type": "markdown",
   "metadata": {},
   "source": [
    "* Carregando os dados dos txt em variáveis"
   ]
  },
  {
   "cell_type": "code",
   "execution_count": 5,
   "metadata": {},
   "outputs": [],
   "source": [
    "# Load course data\n",
    "courseData = load_data_fromFile_txt(DATA_SQL_PATH+\"SampleCourseData.txt\")\n",
    "# Load Credit data\n",
    "creditData = load_data_fromFile_txt(DATA_SQL_PATH+\"SampleCreditData.txt\")\n",
    "# Load Person data\n",
    "personData = load_data_fromFile_txt(DATA_SQL_PATH+\"SamplePersonData.txt\")\n",
    "# Load Student data\n",
    "studentData = load_data_fromFile_txt(DATA_SQL_PATH+\"SampleStudentData.txt\")"
   ]
  },
  {
   "attachments": {},
   "cell_type": "markdown",
   "metadata": {},
   "source": [
    "#### Pre Process Data"
   ]
  },
  {
   "cell_type": "code",
   "execution_count": 6,
   "metadata": {},
   "outputs": [],
   "source": [
    "# Pre process data COURSE\n",
    "for line in courseData :\n",
    "    line[0] = int(line[0])\n",
    "# Pre process data CREDIT\n",
    "for line in creditData :\n",
    "    line[0] = int(line[0])\n",
    "    line[1] = int(line[1])\n",
    "    line[2] = float(line[2])\n",
    "    line[3] = int(line[3])\n",
    "# Pre process data PERSON\n",
    "for line in personData :\n",
    "    line[0] = int(line[0])\n",
    "# Pre process data PERSON\n",
    "for line in studentData :\n",
    "    line[0] = int(line[0])\n",
    "    line[1] = int(line[1])"
   ]
  },
  {
   "attachments": {},
   "cell_type": "markdown",
   "metadata": {},
   "source": [
    "* Criando os comandos de criação das tabelas"
   ]
  },
  {
   "cell_type": "code",
   "execution_count": 7,
   "metadata": {},
   "outputs": [],
   "source": [
    "# Query to create table COURSE\n",
    "courseDataQuery = '''\n",
    "    CREATE TABLE IF NOT EXISTS course (\n",
    "    courseId INTEGER PRIMARY KEY,\n",
    "    name TEXT,\n",
    "    teacher TEXT\n",
    "    );'''\n",
    "# Query to create table CREDIT\n",
    "creditDataQuery = '''\n",
    "    CREATE TABLE IF NOT EXISTS credit (\n",
    "    courseId INTEGER,\n",
    "    studentId INTEGER,\n",
    "    grade REAL,\n",
    "    attempt INTEGER,\n",
    "    FOREIGN KEY (courseId) REFERENCES course (courseId)\n",
    "    FOREIGN KEY (studentId) REFERENCES student (studentId)\n",
    "    );'''\n",
    "# Query to create table PERSON\n",
    "personDataQuery = '''\n",
    "    CREATE TABLE IF NOT EXISTS person (\n",
    "    personId INTEGER PRIMARY KEY,\n",
    "    firstName TEXT,\n",
    "    middleInitial TEXT,\n",
    "    lastName TEXT,\n",
    "    dateOfBirth DATE\n",
    "    );'''\n",
    "# Query to create table STUDENT\n",
    "studentDataQuery = '''\n",
    "    CREATE TABLE IF NOT EXISTS student (\n",
    "    studentId INTEGER PRIMARY KEY,\n",
    "    personId INTEGER,\n",
    "    email TEXT,\n",
    "    FOREIGN KEY (personId) REFERENCES person (personId)\n",
    "    );'''"
   ]
  },
  {
   "attachments": {},
   "cell_type": "markdown",
   "metadata": {},
   "source": [
    "* Execute creation of COURSE table"
   ]
  },
  {
   "cell_type": "code",
   "execution_count": 8,
   "metadata": {},
   "outputs": [
    {
     "data": {
      "text/plain": [
       "[(0, 'courseId', 'INTEGER', 0, None, 1),\n",
       " (1, 'name', 'TEXT', 0, None, 0),\n",
       " (2, 'teacher', 'TEXT', 0, None, 0)]"
      ]
     },
     "execution_count": 8,
     "metadata": {},
     "output_type": "execute_result"
    }
   ],
   "source": [
    "cursor.execute(courseDataQuery)\n",
    "cursor.execute(\"PRAGMA table_info(course)\").fetchall()"
   ]
  },
  {
   "attachments": {},
   "cell_type": "markdown",
   "metadata": {},
   "source": [
    "* Execute creation of CREDIT table"
   ]
  },
  {
   "cell_type": "code",
   "execution_count": 9,
   "metadata": {},
   "outputs": [
    {
     "data": {
      "text/plain": [
       "[(0, 'courseId', 'INTEGER', 0, None, 0),\n",
       " (1, 'studentId', 'INTEGER', 0, None, 0),\n",
       " (2, 'grade', 'REAL', 0, None, 0),\n",
       " (3, 'attempt', 'INTEGER', 0, None, 0)]"
      ]
     },
     "execution_count": 9,
     "metadata": {},
     "output_type": "execute_result"
    }
   ],
   "source": [
    "cursor.execute(creditDataQuery)\n",
    "cursor.execute(\"PRAGMA table_info(credit)\").fetchall()"
   ]
  },
  {
   "attachments": {},
   "cell_type": "markdown",
   "metadata": {},
   "source": [
    "* Execute creation of PERSON table"
   ]
  },
  {
   "cell_type": "code",
   "execution_count": 10,
   "metadata": {},
   "outputs": [
    {
     "data": {
      "text/plain": [
       "[(0, 'personId', 'INTEGER', 0, None, 1),\n",
       " (1, 'firstName', 'TEXT', 0, None, 0),\n",
       " (2, 'middleInitial', 'TEXT', 0, None, 0),\n",
       " (3, 'lastName', 'TEXT', 0, None, 0),\n",
       " (4, 'dateOfBirth', 'DATE', 0, None, 0)]"
      ]
     },
     "execution_count": 10,
     "metadata": {},
     "output_type": "execute_result"
    }
   ],
   "source": [
    "cursor.execute(personDataQuery)\n",
    "cursor.execute(\"PRAGMA table_info(person)\").fetchall()"
   ]
  },
  {
   "attachments": {},
   "cell_type": "markdown",
   "metadata": {},
   "source": [
    "* Execute creation of STUDENT table"
   ]
  },
  {
   "cell_type": "code",
   "execution_count": 11,
   "metadata": {},
   "outputs": [
    {
     "data": {
      "text/plain": [
       "[(0, 'studentId', 'INTEGER', 0, None, 1),\n",
       " (1, 'personId', 'INTEGER', 0, None, 0),\n",
       " (2, 'email', 'TEXT', 0, None, 0)]"
      ]
     },
     "execution_count": 11,
     "metadata": {},
     "output_type": "execute_result"
    }
   ],
   "source": [
    "cursor.execute(studentDataQuery)\n",
    "cursor.execute(\"PRAGMA table_info(student)\").fetchall()"
   ]
  },
  {
   "attachments": {},
   "cell_type": "markdown",
   "metadata": {},
   "source": [
    "#### 1.1 - Populando as tabelas"
   ]
  },
  {
   "cell_type": "code",
   "execution_count": 12,
   "metadata": {},
   "outputs": [],
   "source": [
    "def populateTables (data:list, table:str, cursor:sqlite3.Cursor) : \n",
    "    \n",
    "    table_schema = cursor.execute(f\"PRAGMA table_info({table})\").fetchall()\n",
    "    table_schema = tuple([str(elem[1]) for elem in table_schema])\n",
    "    print(f\"Columns : {table_schema}\")\n",
    "    for line in data :\n",
    "        line = tuple(line)\n",
    "        \n",
    "        cursor.execute(\n",
    "            f'''\n",
    "                INSERT INTO {table} {table_schema} VALUES {line};\n",
    "            '''\n",
    "        )\n",
    "    \n",
    "    verify_add = cursor.execute(\n",
    "        f\"SELECT * FROM {table}\"\n",
    "    ).fetchall()\n",
    "\n",
    "    # return verify_add"
   ]
  },
  {
   "cell_type": "code",
   "execution_count": 13,
   "metadata": {},
   "outputs": [
    {
     "name": "stdout",
     "output_type": "stream",
     "text": [
      "Columns : ('courseId', 'name', 'teacher')\n",
      "Columns : ('courseId', 'studentId', 'grade', 'attempt')\n",
      "Columns : ('personId', 'firstName', 'middleInitial', 'lastName', 'dateOfBirth')\n",
      "Columns : ('studentId', 'personId', 'email')\n"
     ]
    }
   ],
   "source": [
    "# Populate COURSE table\n",
    "populateTables(data=courseData, table='course', cursor=cursor)\n",
    "# Populate CREDIT table\n",
    "populateTables(data=creditData, table='credit', cursor=cursor)\n",
    "# Populate PERSON table\n",
    "populateTables(data=personData, table='person', cursor=cursor)\n",
    "# Populate STUDENT table\n",
    "populateTables(data=studentData, table='student', cursor=cursor)"
   ]
  },
  {
   "attachments": {},
   "cell_type": "markdown",
   "metadata": {},
   "source": [
    "* Efetuando a busca por todos os registros da tabela Pessoas"
   ]
  },
  {
   "cell_type": "code",
   "execution_count": 14,
   "metadata": {},
   "outputs": [
    {
     "data": {
      "text/html": [
       "<div>\n",
       "<style scoped>\n",
       "    .dataframe tbody tr th:only-of-type {\n",
       "        vertical-align: middle;\n",
       "    }\n",
       "\n",
       "    .dataframe tbody tr th {\n",
       "        vertical-align: top;\n",
       "    }\n",
       "\n",
       "    .dataframe thead th {\n",
       "        text-align: right;\n",
       "    }\n",
       "</style>\n",
       "<table border=\"1\" class=\"dataframe\">\n",
       "  <thead>\n",
       "    <tr style=\"text-align: right;\">\n",
       "      <th></th>\n",
       "      <th>personId</th>\n",
       "      <th>firstName</th>\n",
       "      <th>middleInitial</th>\n",
       "      <th>lastName</th>\n",
       "      <th>dateOfBirth</th>\n",
       "    </tr>\n",
       "  </thead>\n",
       "  <tbody>\n",
       "    <tr>\n",
       "      <th>0</th>\n",
       "      <td>1</td>\n",
       "      <td>Adele</td>\n",
       "      <td>S</td>\n",
       "      <td>Rosales</td>\n",
       "      <td>1984-05-05</td>\n",
       "    </tr>\n",
       "    <tr>\n",
       "      <th>1</th>\n",
       "      <td>2</td>\n",
       "      <td>Justus</td>\n",
       "      <td>Z</td>\n",
       "      <td>Gomez</td>\n",
       "      <td>2007-04-06</td>\n",
       "    </tr>\n",
       "    <tr>\n",
       "      <th>2</th>\n",
       "      <td>3</td>\n",
       "      <td>Isiah</td>\n",
       "      <td>Z</td>\n",
       "      <td>Warner</td>\n",
       "      <td>1992-06-04</td>\n",
       "    </tr>\n",
       "    <tr>\n",
       "      <th>3</th>\n",
       "      <td>4</td>\n",
       "      <td>Erica</td>\n",
       "      <td>L</td>\n",
       "      <td>Campos</td>\n",
       "      <td>1994-05-14</td>\n",
       "    </tr>\n",
       "    <tr>\n",
       "      <th>4</th>\n",
       "      <td>5</td>\n",
       "      <td>Desmond</td>\n",
       "      <td>W</td>\n",
       "      <td>Valdez</td>\n",
       "      <td>1996-11-19</td>\n",
       "    </tr>\n",
       "    <tr>\n",
       "      <th>...</th>\n",
       "      <td>...</td>\n",
       "      <td>...</td>\n",
       "      <td>...</td>\n",
       "      <td>...</td>\n",
       "      <td>...</td>\n",
       "    </tr>\n",
       "    <tr>\n",
       "      <th>995</th>\n",
       "      <td>996</td>\n",
       "      <td>Piper</td>\n",
       "      <td>D</td>\n",
       "      <td>Dunn</td>\n",
       "      <td>1980-07-20</td>\n",
       "    </tr>\n",
       "    <tr>\n",
       "      <th>996</th>\n",
       "      <td>997</td>\n",
       "      <td>Emmalyn</td>\n",
       "      <td>Y</td>\n",
       "      <td>Barr</td>\n",
       "      <td>1983-09-07</td>\n",
       "    </tr>\n",
       "    <tr>\n",
       "      <th>997</th>\n",
       "      <td>998</td>\n",
       "      <td>Audrina</td>\n",
       "      <td>X</td>\n",
       "      <td>Solis</td>\n",
       "      <td>1994-02-24</td>\n",
       "    </tr>\n",
       "    <tr>\n",
       "      <th>998</th>\n",
       "      <td>999</td>\n",
       "      <td>Tyler</td>\n",
       "      <td>I</td>\n",
       "      <td>Harrell</td>\n",
       "      <td>1992-02-17</td>\n",
       "    </tr>\n",
       "    <tr>\n",
       "      <th>999</th>\n",
       "      <td>1000</td>\n",
       "      <td>Caroline</td>\n",
       "      <td>G</td>\n",
       "      <td>Baker</td>\n",
       "      <td>1986-04-19</td>\n",
       "    </tr>\n",
       "  </tbody>\n",
       "</table>\n",
       "<p>1000 rows × 5 columns</p>\n",
       "</div>"
      ],
      "text/plain": [
       "     personId firstName middleInitial lastName dateOfBirth\n",
       "0           1     Adele             S  Rosales  1984-05-05\n",
       "1           2    Justus             Z    Gomez  2007-04-06\n",
       "2           3     Isiah             Z   Warner  1992-06-04\n",
       "3           4     Erica             L   Campos  1994-05-14\n",
       "4           5   Desmond             W   Valdez  1996-11-19\n",
       "..        ...       ...           ...      ...         ...\n",
       "995       996     Piper             D     Dunn  1980-07-20\n",
       "996       997   Emmalyn             Y     Barr  1983-09-07\n",
       "997       998   Audrina             X    Solis  1994-02-24\n",
       "998       999     Tyler             I  Harrell  1992-02-17\n",
       "999      1000  Caroline             G    Baker  1986-04-19\n",
       "\n",
       "[1000 rows x 5 columns]"
      ]
     },
     "metadata": {},
     "output_type": "display_data"
    }
   ],
   "source": [
    "query = \"SELECT * FROM person\"\n",
    "df = pd.read_sql_query(query, engine)\n",
    "\n",
    "display(df)"
   ]
  },
  {
   "attachments": {},
   "cell_type": "markdown",
   "metadata": {},
   "source": [
    "* Efetuando a busca por todos os registros da tabela Pessoas que tenham sobrenome começados em \"H\""
   ]
  },
  {
   "cell_type": "code",
   "execution_count": 18,
   "metadata": {},
   "outputs": [
    {
     "data": {
      "text/html": [
       "<div>\n",
       "<style scoped>\n",
       "    .dataframe tbody tr th:only-of-type {\n",
       "        vertical-align: middle;\n",
       "    }\n",
       "\n",
       "    .dataframe tbody tr th {\n",
       "        vertical-align: top;\n",
       "    }\n",
       "\n",
       "    .dataframe thead th {\n",
       "        text-align: right;\n",
       "    }\n",
       "</style>\n",
       "<table border=\"1\" class=\"dataframe\">\n",
       "  <thead>\n",
       "    <tr style=\"text-align: right;\">\n",
       "      <th></th>\n",
       "      <th>personId</th>\n",
       "      <th>firstName</th>\n",
       "      <th>middleInitial</th>\n",
       "      <th>lastName</th>\n",
       "      <th>dateOfBirth</th>\n",
       "    </tr>\n",
       "  </thead>\n",
       "  <tbody>\n",
       "    <tr>\n",
       "      <th>0</th>\n",
       "      <td>9</td>\n",
       "      <td>Haleigh</td>\n",
       "      <td>M</td>\n",
       "      <td>Hopper</td>\n",
       "      <td>1997-07-24</td>\n",
       "    </tr>\n",
       "    <tr>\n",
       "      <th>1</th>\n",
       "      <td>19</td>\n",
       "      <td>Amare</td>\n",
       "      <td>A</td>\n",
       "      <td>Hernandez</td>\n",
       "      <td>2000-09-17</td>\n",
       "    </tr>\n",
       "    <tr>\n",
       "      <th>2</th>\n",
       "      <td>35</td>\n",
       "      <td>Laura</td>\n",
       "      <td>G</td>\n",
       "      <td>Herrera</td>\n",
       "      <td>1988-05-12</td>\n",
       "    </tr>\n",
       "    <tr>\n",
       "      <th>3</th>\n",
       "      <td>36</td>\n",
       "      <td>Lyric</td>\n",
       "      <td>S</td>\n",
       "      <td>Horton</td>\n",
       "      <td>2008-10-24</td>\n",
       "    </tr>\n",
       "    <tr>\n",
       "      <th>4</th>\n",
       "      <td>37</td>\n",
       "      <td>Deandre</td>\n",
       "      <td>F</td>\n",
       "      <td>Hopper</td>\n",
       "      <td>2007-03-31</td>\n",
       "    </tr>\n",
       "    <tr>\n",
       "      <th>...</th>\n",
       "      <td>...</td>\n",
       "      <td>...</td>\n",
       "      <td>...</td>\n",
       "      <td>...</td>\n",
       "      <td>...</td>\n",
       "    </tr>\n",
       "    <tr>\n",
       "      <th>88</th>\n",
       "      <td>963</td>\n",
       "      <td>Reyna</td>\n",
       "      <td>C</td>\n",
       "      <td>Hinton</td>\n",
       "      <td>2002-07-03</td>\n",
       "    </tr>\n",
       "    <tr>\n",
       "      <th>89</th>\n",
       "      <td>967</td>\n",
       "      <td>Averi</td>\n",
       "      <td>D</td>\n",
       "      <td>Holman</td>\n",
       "      <td>2003-04-26</td>\n",
       "    </tr>\n",
       "    <tr>\n",
       "      <th>90</th>\n",
       "      <td>975</td>\n",
       "      <td>Bianca</td>\n",
       "      <td>V</td>\n",
       "      <td>Hancock</td>\n",
       "      <td>1988-07-14</td>\n",
       "    </tr>\n",
       "    <tr>\n",
       "      <th>91</th>\n",
       "      <td>987</td>\n",
       "      <td>Teagan</td>\n",
       "      <td>Y</td>\n",
       "      <td>Hendrix</td>\n",
       "      <td>1989-10-26</td>\n",
       "    </tr>\n",
       "    <tr>\n",
       "      <th>92</th>\n",
       "      <td>999</td>\n",
       "      <td>Tyler</td>\n",
       "      <td>I</td>\n",
       "      <td>Harrell</td>\n",
       "      <td>1992-02-17</td>\n",
       "    </tr>\n",
       "  </tbody>\n",
       "</table>\n",
       "<p>93 rows × 5 columns</p>\n",
       "</div>"
      ],
      "text/plain": [
       "    personId firstName middleInitial   lastName dateOfBirth\n",
       "0          9   Haleigh             M     Hopper  1997-07-24\n",
       "1         19     Amare             A  Hernandez  2000-09-17\n",
       "2         35     Laura             G    Herrera  1988-05-12\n",
       "3         36     Lyric             S     Horton  2008-10-24\n",
       "4         37   Deandre             F     Hopper  2007-03-31\n",
       "..       ...       ...           ...        ...         ...\n",
       "88       963     Reyna             C     Hinton  2002-07-03\n",
       "89       967     Averi             D     Holman  2003-04-26\n",
       "90       975    Bianca             V    Hancock  1988-07-14\n",
       "91       987    Teagan             Y    Hendrix  1989-10-26\n",
       "92       999     Tyler             I    Harrell  1992-02-17\n",
       "\n",
       "[93 rows x 5 columns]"
      ]
     },
     "metadata": {},
     "output_type": "display_data"
    }
   ],
   "source": [
    "query = \"SELECT * FROM person WHERE lastName LIKE 'H%'\"\n",
    "df = pd.read_sql_query(query, engine)\n",
    "\n",
    "display(df)"
   ]
  },
  {
   "attachments": {},
   "cell_type": "markdown",
   "metadata": {},
   "source": [
    "* Consulta com condição de Primeiro Nome e SobreNome comecem com a letra 'B'"
   ]
  },
  {
   "cell_type": "code",
   "execution_count": 16,
   "metadata": {},
   "outputs": [
    {
     "data": {
      "text/html": [
       "<div>\n",
       "<style scoped>\n",
       "    .dataframe tbody tr th:only-of-type {\n",
       "        vertical-align: middle;\n",
       "    }\n",
       "\n",
       "    .dataframe tbody tr th {\n",
       "        vertical-align: top;\n",
       "    }\n",
       "\n",
       "    .dataframe thead th {\n",
       "        text-align: right;\n",
       "    }\n",
       "</style>\n",
       "<table border=\"1\" class=\"dataframe\">\n",
       "  <thead>\n",
       "    <tr style=\"text-align: right;\">\n",
       "      <th></th>\n",
       "      <th>personId</th>\n",
       "      <th>firstName</th>\n",
       "      <th>middleInitial</th>\n",
       "      <th>lastName</th>\n",
       "      <th>dateOfBirth</th>\n",
       "    </tr>\n",
       "  </thead>\n",
       "  <tbody>\n",
       "    <tr>\n",
       "      <th>0</th>\n",
       "      <td>447</td>\n",
       "      <td>Bodhi</td>\n",
       "      <td>J</td>\n",
       "      <td>Best</td>\n",
       "      <td>1996-07-06</td>\n",
       "    </tr>\n",
       "    <tr>\n",
       "      <th>1</th>\n",
       "      <td>571</td>\n",
       "      <td>Bruno</td>\n",
       "      <td>E</td>\n",
       "      <td>Bolton</td>\n",
       "      <td>2008-04-02</td>\n",
       "    </tr>\n",
       "    <tr>\n",
       "      <th>2</th>\n",
       "      <td>670</td>\n",
       "      <td>Brock</td>\n",
       "      <td>X</td>\n",
       "      <td>Barr</td>\n",
       "      <td>1987-11-12</td>\n",
       "    </tr>\n",
       "  </tbody>\n",
       "</table>\n",
       "</div>"
      ],
      "text/plain": [
       "   personId firstName middleInitial lastName dateOfBirth\n",
       "0       447     Bodhi             J     Best  1996-07-06\n",
       "1       571     Bruno             E   Bolton  2008-04-02\n",
       "2       670     Brock             X     Barr  1987-11-12"
      ]
     },
     "execution_count": 16,
     "metadata": {},
     "output_type": "execute_result"
    }
   ],
   "source": [
    "query = \"SELECT * FROM person WHERE lastName LIKE 'B%' AND firstName LIKE 'B%'\"\n",
    "df = pd.read_sql_query(query, engine)\n",
    "\n",
    "df"
   ]
  },
  {
   "attachments": {},
   "cell_type": "markdown",
   "metadata": {},
   "source": [
    "* Consulta com condição de data de nascimento ser maior que '01/01/2000'"
   ]
  },
  {
   "cell_type": "code",
   "execution_count": 17,
   "metadata": {},
   "outputs": [
    {
     "data": {
      "text/html": [
       "<div>\n",
       "<style scoped>\n",
       "    .dataframe tbody tr th:only-of-type {\n",
       "        vertical-align: middle;\n",
       "    }\n",
       "\n",
       "    .dataframe tbody tr th {\n",
       "        vertical-align: top;\n",
       "    }\n",
       "\n",
       "    .dataframe thead th {\n",
       "        text-align: right;\n",
       "    }\n",
       "</style>\n",
       "<table border=\"1\" class=\"dataframe\">\n",
       "  <thead>\n",
       "    <tr style=\"text-align: right;\">\n",
       "      <th></th>\n",
       "      <th>personId</th>\n",
       "      <th>firstName</th>\n",
       "      <th>middleInitial</th>\n",
       "      <th>lastName</th>\n",
       "      <th>dateOfBirth</th>\n",
       "    </tr>\n",
       "  </thead>\n",
       "  <tbody>\n",
       "    <tr>\n",
       "      <th>0</th>\n",
       "      <td>2</td>\n",
       "      <td>Justus</td>\n",
       "      <td>Z</td>\n",
       "      <td>Gomez</td>\n",
       "      <td>2007-04-06</td>\n",
       "    </tr>\n",
       "    <tr>\n",
       "      <th>1</th>\n",
       "      <td>6</td>\n",
       "      <td>Arnav</td>\n",
       "      <td>R</td>\n",
       "      <td>Powers</td>\n",
       "      <td>2008-05-12</td>\n",
       "    </tr>\n",
       "    <tr>\n",
       "      <th>2</th>\n",
       "      <td>11</td>\n",
       "      <td>Jacob</td>\n",
       "      <td>P</td>\n",
       "      <td>Dotson</td>\n",
       "      <td>2008-01-02</td>\n",
       "    </tr>\n",
       "    <tr>\n",
       "      <th>3</th>\n",
       "      <td>12</td>\n",
       "      <td>Aden</td>\n",
       "      <td>F</td>\n",
       "      <td>Petty</td>\n",
       "      <td>2007-12-02</td>\n",
       "    </tr>\n",
       "    <tr>\n",
       "      <th>4</th>\n",
       "      <td>15</td>\n",
       "      <td>Karma</td>\n",
       "      <td>N</td>\n",
       "      <td>Guerrero</td>\n",
       "      <td>2005-02-18</td>\n",
       "    </tr>\n",
       "    <tr>\n",
       "      <th>...</th>\n",
       "      <td>...</td>\n",
       "      <td>...</td>\n",
       "      <td>...</td>\n",
       "      <td>...</td>\n",
       "      <td>...</td>\n",
       "    </tr>\n",
       "    <tr>\n",
       "      <th>318</th>\n",
       "      <td>988</td>\n",
       "      <td>Campbell</td>\n",
       "      <td>T</td>\n",
       "      <td>Chase</td>\n",
       "      <td>2006-07-11</td>\n",
       "    </tr>\n",
       "    <tr>\n",
       "      <th>319</th>\n",
       "      <td>989</td>\n",
       "      <td>Lexie</td>\n",
       "      <td>S</td>\n",
       "      <td>Rich</td>\n",
       "      <td>2008-04-25</td>\n",
       "    </tr>\n",
       "    <tr>\n",
       "      <th>320</th>\n",
       "      <td>990</td>\n",
       "      <td>Reagan</td>\n",
       "      <td>S</td>\n",
       "      <td>Barton</td>\n",
       "      <td>2005-07-01</td>\n",
       "    </tr>\n",
       "    <tr>\n",
       "      <th>321</th>\n",
       "      <td>993</td>\n",
       "      <td>Courtney</td>\n",
       "      <td>N</td>\n",
       "      <td>Dale</td>\n",
       "      <td>2003-02-25</td>\n",
       "    </tr>\n",
       "    <tr>\n",
       "      <th>322</th>\n",
       "      <td>994</td>\n",
       "      <td>Graham</td>\n",
       "      <td>B</td>\n",
       "      <td>Reyes</td>\n",
       "      <td>2005-07-22</td>\n",
       "    </tr>\n",
       "  </tbody>\n",
       "</table>\n",
       "<p>323 rows × 5 columns</p>\n",
       "</div>"
      ],
      "text/plain": [
       "     personId firstName middleInitial  lastName dateOfBirth\n",
       "0           2    Justus             Z     Gomez  2007-04-06\n",
       "1           6     Arnav             R    Powers  2008-05-12\n",
       "2          11     Jacob             P    Dotson  2008-01-02\n",
       "3          12      Aden             F     Petty  2007-12-02\n",
       "4          15     Karma             N  Guerrero  2005-02-18\n",
       "..        ...       ...           ...       ...         ...\n",
       "318       988  Campbell             T     Chase  2006-07-11\n",
       "319       989     Lexie             S      Rich  2008-04-25\n",
       "320       990    Reagan             S    Barton  2005-07-01\n",
       "321       993  Courtney             N      Dale  2003-02-25\n",
       "322       994    Graham             B     Reyes  2005-07-22\n",
       "\n",
       "[323 rows x 5 columns]"
      ]
     },
     "execution_count": 17,
     "metadata": {},
     "output_type": "execute_result"
    }
   ],
   "source": [
    "query = '''\n",
    "    SELECT  * FROM person WHERE dateOfBirth > '2000-01-01'\n",
    "'''\n",
    "df = pd.read_sql_query(query, engine)\n",
    "\n",
    "df"
   ]
  }
 ],
 "metadata": {
  "kernelspec": {
   "display_name": ".venv",
   "language": "python",
   "name": "python3"
  },
  "language_info": {
   "codemirror_mode": {
    "name": "ipython",
    "version": 3
   },
   "file_extension": ".py",
   "mimetype": "text/x-python",
   "name": "python",
   "nbconvert_exporter": "python",
   "pygments_lexer": "ipython3",
   "version": "3.10.6"
  },
  "orig_nbformat": 4
 },
 "nbformat": 4,
 "nbformat_minor": 2
}
